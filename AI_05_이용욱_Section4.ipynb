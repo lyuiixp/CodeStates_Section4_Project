{
 "cells": [
  {
   "cell_type": "markdown",
   "metadata": {},
   "source": [
    "# 🚩 Section 4 : Deep Learning 프로젝트의 목적\n",
    "1. 내가 설정한 포지션에서 적합한 데이터셋 을 구한 뒤 그에 맞는 가설을 세우고 가설을 검증합니다.\n",
    "2. 가설 검증을 위한 딥러닝 파이프라인을 구축합니다.\n",
    "3. 구축한 파이프라인은 완벽하지 않아도 되며, 큰 가설의 일부(곁 가지)에 대한 검증을 목표로 해도 좋습니다.\n",
    "4. 모자란 부분에 대해서는 이후 프로젝트를 통해서 연계해 나가도 좋으며 이런 부분은 '한계점 및 추후 발전 방향' 등을 통해 제시해 주어도 됩니다."
   ]
  },
  {
   "cell_type": "markdown",
   "metadata": {},
   "source": [
    "## HAM10000 dataset사용\n",
    "흑색종 검출을 위한 피부병변분석(흑색종은 피부암 사망의 압도적 다수를 차지함)\n",
    "                                (조기 발견시 생존율 95%이상)\n",
    "- 10015개의 이미지 파일(kaggle)(600x450)\n",
    "- 피부암 Mnist\n",
    "- 피부병변 분류(7가지)\n",
    "    - 'akiec': 'Actinic keratoses(광선 각화증)' 0\n",
    "    - 'bcc': 'Basal cell carcinoma(기저세포암종)' 1\n",
    "    - 'bkl': 'Benign keratosis-like lesions(양성 병변 각화증)' 2\n",
    "    - 'df': 'Dermatofibroma(피부섬유종)' 3\n",
    "    - 'mel': 'Melanoma(흑색종)' 4\n",
    "    - 'nv': 'Melanocytic nevi(멜라닌세포 모반)' 5\n",
    "    - 'vasc': 'Vascular lesions(혈관성 병변)' 6\n",
    "\n",
    "- 이미지 메타데이터(metadata.csv)\n",
    "    - lesion_id(7470 unique values) : 병변 부위\n",
    "    - image_id(10015 unique values) : 이미지(lesion_id 확대)\n",
    "    - dx : 피부병변\n",
    "    - dx_type : 병변 확인방법\n",
    "        - histo : 조직병리학\n",
    "        - follow_up : 추적검사\n",
    "        - consensus : 전문가 의견\n",
    "        - confocal : 공초점 현미경 검사\n",
    "    - age : 환자나이\n",
    "    - sex : 환자성별\n",
    "    - localization : 병변부위 위치"
   ]
  },
  {
   "cell_type": "code",
   "execution_count": 145,
   "metadata": {},
   "outputs": [],
   "source": [
    "import tensorflow"
   ]
  },
  {
   "cell_type": "code",
   "execution_count": 1,
   "metadata": {},
   "outputs": [],
   "source": [
    "import os\n",
    "from glob import glob\n",
    "\n",
    "# 이미지 디렉토리설정\n",
    "base_dir = os.path.join(os.getcwd(), 'HAM')\n",
    "# 이미지 별 경로\n",
    "imageid_path_dict = {os.path.splitext(os.path.basename(x))[0]: x\n",
    "                     for x in glob(os.path.join(base_dir, '*', '*.jpg'))}"
   ]
  },
  {
   "cell_type": "code",
   "execution_count": 2,
   "metadata": {},
   "outputs": [
    {
     "data": {
      "text/html": [
       "<div>\n",
       "<style scoped>\n",
       "    .dataframe tbody tr th:only-of-type {\n",
       "        vertical-align: middle;\n",
       "    }\n",
       "\n",
       "    .dataframe tbody tr th {\n",
       "        vertical-align: top;\n",
       "    }\n",
       "\n",
       "    .dataframe thead th {\n",
       "        text-align: right;\n",
       "    }\n",
       "</style>\n",
       "<table border=\"1\" class=\"dataframe\">\n",
       "  <thead>\n",
       "    <tr style=\"text-align: right;\">\n",
       "      <th></th>\n",
       "      <th>lesion_id</th>\n",
       "      <th>image_id</th>\n",
       "      <th>dx</th>\n",
       "      <th>dx_type</th>\n",
       "      <th>age</th>\n",
       "      <th>sex</th>\n",
       "      <th>localization</th>\n",
       "    </tr>\n",
       "  </thead>\n",
       "  <tbody>\n",
       "    <tr>\n",
       "      <th>0</th>\n",
       "      <td>HAM_0000118</td>\n",
       "      <td>ISIC_0027419</td>\n",
       "      <td>bkl</td>\n",
       "      <td>histo</td>\n",
       "      <td>80.0</td>\n",
       "      <td>male</td>\n",
       "      <td>scalp</td>\n",
       "    </tr>\n",
       "    <tr>\n",
       "      <th>1</th>\n",
       "      <td>HAM_0000118</td>\n",
       "      <td>ISIC_0025030</td>\n",
       "      <td>bkl</td>\n",
       "      <td>histo</td>\n",
       "      <td>80.0</td>\n",
       "      <td>male</td>\n",
       "      <td>scalp</td>\n",
       "    </tr>\n",
       "    <tr>\n",
       "      <th>2</th>\n",
       "      <td>HAM_0002730</td>\n",
       "      <td>ISIC_0026769</td>\n",
       "      <td>bkl</td>\n",
       "      <td>histo</td>\n",
       "      <td>80.0</td>\n",
       "      <td>male</td>\n",
       "      <td>scalp</td>\n",
       "    </tr>\n",
       "    <tr>\n",
       "      <th>3</th>\n",
       "      <td>HAM_0002730</td>\n",
       "      <td>ISIC_0025661</td>\n",
       "      <td>bkl</td>\n",
       "      <td>histo</td>\n",
       "      <td>80.0</td>\n",
       "      <td>male</td>\n",
       "      <td>scalp</td>\n",
       "    </tr>\n",
       "    <tr>\n",
       "      <th>4</th>\n",
       "      <td>HAM_0001466</td>\n",
       "      <td>ISIC_0031633</td>\n",
       "      <td>bkl</td>\n",
       "      <td>histo</td>\n",
       "      <td>75.0</td>\n",
       "      <td>male</td>\n",
       "      <td>ear</td>\n",
       "    </tr>\n",
       "    <tr>\n",
       "      <th>...</th>\n",
       "      <td>...</td>\n",
       "      <td>...</td>\n",
       "      <td>...</td>\n",
       "      <td>...</td>\n",
       "      <td>...</td>\n",
       "      <td>...</td>\n",
       "      <td>...</td>\n",
       "    </tr>\n",
       "    <tr>\n",
       "      <th>10010</th>\n",
       "      <td>HAM_0002867</td>\n",
       "      <td>ISIC_0033084</td>\n",
       "      <td>akiec</td>\n",
       "      <td>histo</td>\n",
       "      <td>40.0</td>\n",
       "      <td>male</td>\n",
       "      <td>abdomen</td>\n",
       "    </tr>\n",
       "    <tr>\n",
       "      <th>10011</th>\n",
       "      <td>HAM_0002867</td>\n",
       "      <td>ISIC_0033550</td>\n",
       "      <td>akiec</td>\n",
       "      <td>histo</td>\n",
       "      <td>40.0</td>\n",
       "      <td>male</td>\n",
       "      <td>abdomen</td>\n",
       "    </tr>\n",
       "    <tr>\n",
       "      <th>10012</th>\n",
       "      <td>HAM_0002867</td>\n",
       "      <td>ISIC_0033536</td>\n",
       "      <td>akiec</td>\n",
       "      <td>histo</td>\n",
       "      <td>40.0</td>\n",
       "      <td>male</td>\n",
       "      <td>abdomen</td>\n",
       "    </tr>\n",
       "    <tr>\n",
       "      <th>10013</th>\n",
       "      <td>HAM_0000239</td>\n",
       "      <td>ISIC_0032854</td>\n",
       "      <td>akiec</td>\n",
       "      <td>histo</td>\n",
       "      <td>80.0</td>\n",
       "      <td>male</td>\n",
       "      <td>face</td>\n",
       "    </tr>\n",
       "    <tr>\n",
       "      <th>10014</th>\n",
       "      <td>HAM_0003521</td>\n",
       "      <td>ISIC_0032258</td>\n",
       "      <td>mel</td>\n",
       "      <td>histo</td>\n",
       "      <td>70.0</td>\n",
       "      <td>female</td>\n",
       "      <td>back</td>\n",
       "    </tr>\n",
       "  </tbody>\n",
       "</table>\n",
       "<p>10015 rows × 7 columns</p>\n",
       "</div>"
      ],
      "text/plain": [
       "         lesion_id      image_id     dx dx_type   age     sex localization\n",
       "0      HAM_0000118  ISIC_0027419    bkl   histo  80.0    male        scalp\n",
       "1      HAM_0000118  ISIC_0025030    bkl   histo  80.0    male        scalp\n",
       "2      HAM_0002730  ISIC_0026769    bkl   histo  80.0    male        scalp\n",
       "3      HAM_0002730  ISIC_0025661    bkl   histo  80.0    male        scalp\n",
       "4      HAM_0001466  ISIC_0031633    bkl   histo  75.0    male          ear\n",
       "...            ...           ...    ...     ...   ...     ...          ...\n",
       "10010  HAM_0002867  ISIC_0033084  akiec   histo  40.0    male      abdomen\n",
       "10011  HAM_0002867  ISIC_0033550  akiec   histo  40.0    male      abdomen\n",
       "10012  HAM_0002867  ISIC_0033536  akiec   histo  40.0    male      abdomen\n",
       "10013  HAM_0000239  ISIC_0032854  akiec   histo  80.0    male         face\n",
       "10014  HAM_0003521  ISIC_0032258    mel   histo  70.0  female         back\n",
       "\n",
       "[10015 rows x 7 columns]"
      ]
     },
     "execution_count": 2,
     "metadata": {},
     "output_type": "execute_result"
    }
   ],
   "source": [
    "import pandas as pd\n",
    "\n",
    "skin_df = pd.read_csv(os.path.join(base_dir, 'HAM10000_metadata.csv'))\n",
    "skin_df"
   ]
  },
  {
   "cell_type": "code",
   "execution_count": 3,
   "metadata": {},
   "outputs": [
    {
     "data": {
      "text/plain": [
       "['bkl', 'bkl', 'bkl', 'bkl', 'bkl', ..., 'akiec', 'akiec', 'akiec', 'akiec', 'mel']\n",
       "Length: 10015\n",
       "Categories (7, object): ['akiec', 'bcc', 'bkl', 'df', 'mel', 'nv', 'vasc']"
      ]
     },
     "execution_count": 3,
     "metadata": {},
     "output_type": "execute_result"
    }
   ],
   "source": [
    "pd.Categorical(skin_df['dx'])"
   ]
  },
  {
   "cell_type": "code",
   "execution_count": 4,
   "metadata": {},
   "outputs": [
    {
     "data": {
      "text/html": [
       "<div>\n",
       "<style scoped>\n",
       "    .dataframe tbody tr th:only-of-type {\n",
       "        vertical-align: middle;\n",
       "    }\n",
       "\n",
       "    .dataframe tbody tr th {\n",
       "        vertical-align: top;\n",
       "    }\n",
       "\n",
       "    .dataframe thead th {\n",
       "        text-align: right;\n",
       "    }\n",
       "</style>\n",
       "<table border=\"1\" class=\"dataframe\">\n",
       "  <thead>\n",
       "    <tr style=\"text-align: right;\">\n",
       "      <th></th>\n",
       "      <th>lesion_id</th>\n",
       "      <th>image_id</th>\n",
       "      <th>dx</th>\n",
       "      <th>dx_type</th>\n",
       "      <th>age</th>\n",
       "      <th>sex</th>\n",
       "      <th>localization</th>\n",
       "      <th>path</th>\n",
       "      <th>type_idx</th>\n",
       "    </tr>\n",
       "  </thead>\n",
       "  <tbody>\n",
       "    <tr>\n",
       "      <th>0</th>\n",
       "      <td>HAM_0000118</td>\n",
       "      <td>ISIC_0027419</td>\n",
       "      <td>bkl</td>\n",
       "      <td>histo</td>\n",
       "      <td>80.0</td>\n",
       "      <td>male</td>\n",
       "      <td>scalp</td>\n",
       "      <td>C:\\Users\\Yong\\코드스테이츠 AI\\Section Project\\sectio...</td>\n",
       "      <td>2</td>\n",
       "    </tr>\n",
       "    <tr>\n",
       "      <th>1</th>\n",
       "      <td>HAM_0000118</td>\n",
       "      <td>ISIC_0025030</td>\n",
       "      <td>bkl</td>\n",
       "      <td>histo</td>\n",
       "      <td>80.0</td>\n",
       "      <td>male</td>\n",
       "      <td>scalp</td>\n",
       "      <td>C:\\Users\\Yong\\코드스테이츠 AI\\Section Project\\sectio...</td>\n",
       "      <td>2</td>\n",
       "    </tr>\n",
       "    <tr>\n",
       "      <th>2</th>\n",
       "      <td>HAM_0002730</td>\n",
       "      <td>ISIC_0026769</td>\n",
       "      <td>bkl</td>\n",
       "      <td>histo</td>\n",
       "      <td>80.0</td>\n",
       "      <td>male</td>\n",
       "      <td>scalp</td>\n",
       "      <td>C:\\Users\\Yong\\코드스테이츠 AI\\Section Project\\sectio...</td>\n",
       "      <td>2</td>\n",
       "    </tr>\n",
       "    <tr>\n",
       "      <th>3</th>\n",
       "      <td>HAM_0002730</td>\n",
       "      <td>ISIC_0025661</td>\n",
       "      <td>bkl</td>\n",
       "      <td>histo</td>\n",
       "      <td>80.0</td>\n",
       "      <td>male</td>\n",
       "      <td>scalp</td>\n",
       "      <td>C:\\Users\\Yong\\코드스테이츠 AI\\Section Project\\sectio...</td>\n",
       "      <td>2</td>\n",
       "    </tr>\n",
       "    <tr>\n",
       "      <th>4</th>\n",
       "      <td>HAM_0001466</td>\n",
       "      <td>ISIC_0031633</td>\n",
       "      <td>bkl</td>\n",
       "      <td>histo</td>\n",
       "      <td>75.0</td>\n",
       "      <td>male</td>\n",
       "      <td>ear</td>\n",
       "      <td>C:\\Users\\Yong\\코드스테이츠 AI\\Section Project\\sectio...</td>\n",
       "      <td>2</td>\n",
       "    </tr>\n",
       "  </tbody>\n",
       "</table>\n",
       "</div>"
      ],
      "text/plain": [
       "     lesion_id      image_id   dx dx_type   age   sex localization  \\\n",
       "0  HAM_0000118  ISIC_0027419  bkl   histo  80.0  male        scalp   \n",
       "1  HAM_0000118  ISIC_0025030  bkl   histo  80.0  male        scalp   \n",
       "2  HAM_0002730  ISIC_0026769  bkl   histo  80.0  male        scalp   \n",
       "3  HAM_0002730  ISIC_0025661  bkl   histo  80.0  male        scalp   \n",
       "4  HAM_0001466  ISIC_0031633  bkl   histo  75.0  male          ear   \n",
       "\n",
       "                                                path  type_idx  \n",
       "0  C:\\Users\\Yong\\코드스테이츠 AI\\Section Project\\sectio...         2  \n",
       "1  C:\\Users\\Yong\\코드스테이츠 AI\\Section Project\\sectio...         2  \n",
       "2  C:\\Users\\Yong\\코드스테이츠 AI\\Section Project\\sectio...         2  \n",
       "3  C:\\Users\\Yong\\코드스테이츠 AI\\Section Project\\sectio...         2  \n",
       "4  C:\\Users\\Yong\\코드스테이츠 AI\\Section Project\\sectio...         2  "
      ]
     },
     "execution_count": 4,
     "metadata": {},
     "output_type": "execute_result"
    }
   ],
   "source": [
    "skin_df['path'] = skin_df['image_id'].map(imageid_path_dict.get)\n",
    "skin_df['type_idx'] = pd.Categorical(skin_df['dx']).codes\n",
    "#병변 별 인덱스 카테고리, 경로 추가\n",
    "\n",
    "skin_df.head()"
   ]
  },
  {
   "cell_type": "markdown",
   "metadata": {},
   "source": [
    "### 전처리"
   ]
  },
  {
   "cell_type": "code",
   "execution_count": 5,
   "metadata": {},
   "outputs": [
    {
     "name": "stdout",
     "output_type": "stream",
     "text": [
      "<class 'pandas.core.frame.DataFrame'>\n",
      "RangeIndex: 10015 entries, 0 to 10014\n",
      "Data columns (total 9 columns):\n",
      " #   Column        Non-Null Count  Dtype  \n",
      "---  ------        --------------  -----  \n",
      " 0   lesion_id     10015 non-null  object \n",
      " 1   image_id      10015 non-null  object \n",
      " 2   dx            10015 non-null  object \n",
      " 3   dx_type       10015 non-null  object \n",
      " 4   age           9958 non-null   float64\n",
      " 5   sex           10015 non-null  object \n",
      " 6   localization  10015 non-null  object \n",
      " 7   path          10015 non-null  object \n",
      " 8   type_idx      10015 non-null  int8   \n",
      "dtypes: float64(1), int8(1), object(7)\n",
      "memory usage: 635.8+ KB\n"
     ]
    }
   ],
   "source": [
    "skin_df.info()             # 데이터 타입"
   ]
  },
  {
   "cell_type": "code",
   "execution_count": 6,
   "metadata": {},
   "outputs": [
    {
     "data": {
      "text/plain": [
       "lesion_id        0\n",
       "image_id         0\n",
       "dx               0\n",
       "dx_type          0\n",
       "age             57\n",
       "sex              0\n",
       "localization     0\n",
       "path             0\n",
       "type_idx         0\n",
       "dtype: int64"
      ]
     },
     "execution_count": 6,
     "metadata": {},
     "output_type": "execute_result"
    }
   ],
   "source": [
    "skin_df.isnull().sum()     # 결측치 확인"
   ]
  },
  {
   "cell_type": "code",
   "execution_count": 7,
   "metadata": {},
   "outputs": [],
   "source": [
    "skin_df.dropna(axis=0, inplace =True) # 결측치 삭제"
   ]
  },
  {
   "cell_type": "markdown",
   "metadata": {},
   "source": [
    "#### EDA"
   ]
  },
  {
   "cell_type": "code",
   "execution_count": 8,
   "metadata": {},
   "outputs": [
    {
     "data": {
      "image/png": "[encoded data removed]",
      "text/plain": [
       "<Figure size 1080x1080 with 4 Axes>"
      ]
     },
     "metadata": {
      "needs_background": "light"
     },
     "output_type": "display_data"
    }
   ],
   "source": [
    "import matplotlib.pyplot as plt\n",
    "import seaborn as sns\n",
    "\n",
    "fig = plt.figure(figsize=(15,15))\n",
    "\n",
    "plt.subplot(221)\n",
    "sns.countplot(x='dx', data=skin_df, order=skin_df['dx'].value_counts().index)\n",
    "\n",
    "plt.subplot(222)\n",
    "sns.countplot(x='dx_type', data=skin_df, order=skin_df['dx_type'].value_counts().index)\n",
    "\n",
    "plt.subplot(223)\n",
    "plt.xticks(rotation = 40 )\n",
    "sns.countplot(x='localization', data=skin_df, order=skin_df['localization'].value_counts().index)\n",
    "\n",
    "plt.subplot(224)\n",
    "sns.histplot(x= 'age', data=skin_df)\n",
    "plt.show()"
   ]
  },
  {
   "cell_type": "code",
   "execution_count": 9,
   "metadata": {},
   "outputs": [],
   "source": [
    "# 해당 데이터는 nv(멜라닌세포 모반) 병변의 데이터가 대다수이고(imbalanced)\n",
    "# 주로 조직검사, 추적검사를 통해 확인되었으며\n",
    "# 병변은 주로 등과 하체쪽에 나타나고\n",
    "# 40~50대한테 주로 발병하는 것으로 보여진다."
   ]
  },
  {
   "cell_type": "code",
   "execution_count": 10,
   "metadata": {},
   "outputs": [
    {
     "data": {
      "text/html": [
       "<div>\n",
       "<style scoped>\n",
       "    .dataframe tbody tr th:only-of-type {\n",
       "        vertical-align: middle;\n",
       "    }\n",
       "\n",
       "    .dataframe tbody tr th {\n",
       "        vertical-align: top;\n",
       "    }\n",
       "\n",
       "    .dataframe thead th {\n",
       "        text-align: right;\n",
       "    }\n",
       "</style>\n",
       "<table border=\"1\" class=\"dataframe\">\n",
       "  <thead>\n",
       "    <tr style=\"text-align: right;\">\n",
       "      <th></th>\n",
       "      <th>lesion_id</th>\n",
       "      <th>image_id</th>\n",
       "      <th>dx</th>\n",
       "      <th>dx_type</th>\n",
       "      <th>age</th>\n",
       "      <th>sex</th>\n",
       "      <th>localization</th>\n",
       "      <th>path</th>\n",
       "      <th>type_idx</th>\n",
       "      <th>image</th>\n",
       "    </tr>\n",
       "  </thead>\n",
       "  <tbody>\n",
       "    <tr>\n",
       "      <th>0</th>\n",
       "      <td>HAM_0000118</td>\n",
       "      <td>ISIC_0027419</td>\n",
       "      <td>bkl</td>\n",
       "      <td>histo</td>\n",
       "      <td>80.0</td>\n",
       "      <td>male</td>\n",
       "      <td>scalp</td>\n",
       "      <td>C:\\Users\\Yong\\코드스테이츠 AI\\Section Project\\sectio...</td>\n",
       "      <td>2</td>\n",
       "      <td>[[[191, 154, 196], [191, 155, 197], [191, 149,...</td>\n",
       "    </tr>\n",
       "    <tr>\n",
       "      <th>1</th>\n",
       "      <td>HAM_0000118</td>\n",
       "      <td>ISIC_0025030</td>\n",
       "      <td>bkl</td>\n",
       "      <td>histo</td>\n",
       "      <td>80.0</td>\n",
       "      <td>male</td>\n",
       "      <td>scalp</td>\n",
       "      <td>C:\\Users\\Yong\\코드스테이츠 AI\\Section Project\\sectio...</td>\n",
       "      <td>2</td>\n",
       "      <td>[[[24, 13, 22], [24, 14, 25], [29, 17, 35], [4...</td>\n",
       "    </tr>\n",
       "    <tr>\n",
       "      <th>2</th>\n",
       "      <td>HAM_0002730</td>\n",
       "      <td>ISIC_0026769</td>\n",
       "      <td>bkl</td>\n",
       "      <td>histo</td>\n",
       "      <td>80.0</td>\n",
       "      <td>male</td>\n",
       "      <td>scalp</td>\n",
       "      <td>C:\\Users\\Yong\\코드스테이츠 AI\\Section Project\\sectio...</td>\n",
       "      <td>2</td>\n",
       "      <td>[[[187, 129, 139], [192, 135, 150], [197, 143,...</td>\n",
       "    </tr>\n",
       "    <tr>\n",
       "      <th>3</th>\n",
       "      <td>HAM_0002730</td>\n",
       "      <td>ISIC_0025661</td>\n",
       "      <td>bkl</td>\n",
       "      <td>histo</td>\n",
       "      <td>80.0</td>\n",
       "      <td>male</td>\n",
       "      <td>scalp</td>\n",
       "      <td>C:\\Users\\Yong\\코드스테이츠 AI\\Section Project\\sectio...</td>\n",
       "      <td>2</td>\n",
       "      <td>[[[23, 11, 18], [30, 15, 25], [50, 29, 39], [7...</td>\n",
       "    </tr>\n",
       "    <tr>\n",
       "      <th>4</th>\n",
       "      <td>HAM_0001466</td>\n",
       "      <td>ISIC_0031633</td>\n",
       "      <td>bkl</td>\n",
       "      <td>histo</td>\n",
       "      <td>75.0</td>\n",
       "      <td>male</td>\n",
       "      <td>ear</td>\n",
       "      <td>C:\\Users\\Yong\\코드스테이츠 AI\\Section Project\\sectio...</td>\n",
       "      <td>2</td>\n",
       "      <td>[[[135, 91, 114], [152, 107, 131], [169, 125, ...</td>\n",
       "    </tr>\n",
       "    <tr>\n",
       "      <th>...</th>\n",
       "      <td>...</td>\n",
       "      <td>...</td>\n",
       "      <td>...</td>\n",
       "      <td>...</td>\n",
       "      <td>...</td>\n",
       "      <td>...</td>\n",
       "      <td>...</td>\n",
       "      <td>...</td>\n",
       "      <td>...</td>\n",
       "      <td>...</td>\n",
       "    </tr>\n",
       "    <tr>\n",
       "      <th>10010</th>\n",
       "      <td>HAM_0002867</td>\n",
       "      <td>ISIC_0033084</td>\n",
       "      <td>akiec</td>\n",
       "      <td>histo</td>\n",
       "      <td>40.0</td>\n",
       "      <td>male</td>\n",
       "      <td>abdomen</td>\n",
       "      <td>C:\\Users\\Yong\\코드스테이츠 AI\\Section Project\\sectio...</td>\n",
       "      <td>0</td>\n",
       "      <td>[[[142, 124, 133], [139, 121, 130], [135, 117,...</td>\n",
       "    </tr>\n",
       "    <tr>\n",
       "      <th>10011</th>\n",
       "      <td>HAM_0002867</td>\n",
       "      <td>ISIC_0033550</td>\n",
       "      <td>akiec</td>\n",
       "      <td>histo</td>\n",
       "      <td>40.0</td>\n",
       "      <td>male</td>\n",
       "      <td>abdomen</td>\n",
       "      <td>C:\\Users\\Yong\\코드스테이츠 AI\\Section Project\\sectio...</td>\n",
       "      <td>0</td>\n",
       "      <td>[[[5, 6, 3], [7, 8, 5], [7, 7, 5], [12, 12, 10...</td>\n",
       "    </tr>\n",
       "    <tr>\n",
       "      <th>10012</th>\n",
       "      <td>HAM_0002867</td>\n",
       "      <td>ISIC_0033536</td>\n",
       "      <td>akiec</td>\n",
       "      <td>histo</td>\n",
       "      <td>40.0</td>\n",
       "      <td>male</td>\n",
       "      <td>abdomen</td>\n",
       "      <td>C:\\Users\\Yong\\코드스테이츠 AI\\Section Project\\sectio...</td>\n",
       "      <td>0</td>\n",
       "      <td>[[[114, 104, 106], [133, 121, 121], [140, 125,...</td>\n",
       "    </tr>\n",
       "    <tr>\n",
       "      <th>10013</th>\n",
       "      <td>HAM_0000239</td>\n",
       "      <td>ISIC_0032854</td>\n",
       "      <td>akiec</td>\n",
       "      <td>histo</td>\n",
       "      <td>80.0</td>\n",
       "      <td>male</td>\n",
       "      <td>face</td>\n",
       "      <td>C:\\Users\\Yong\\코드스테이츠 AI\\Section Project\\sectio...</td>\n",
       "      <td>0</td>\n",
       "      <td>[[[159, 122, 145], [156, 115, 132], [158, 122,...</td>\n",
       "    </tr>\n",
       "    <tr>\n",
       "      <th>10014</th>\n",
       "      <td>HAM_0003521</td>\n",
       "      <td>ISIC_0032258</td>\n",
       "      <td>mel</td>\n",
       "      <td>histo</td>\n",
       "      <td>70.0</td>\n",
       "      <td>female</td>\n",
       "      <td>back</td>\n",
       "      <td>C:\\Users\\Yong\\코드스테이츠 AI\\Section Project\\sectio...</td>\n",
       "      <td>4</td>\n",
       "      <td>[[[178, 147, 135], [177, 143, 130], [180, 148,...</td>\n",
       "    </tr>\n",
       "  </tbody>\n",
       "</table>\n",
       "<p>9958 rows × 10 columns</p>\n",
       "</div>"
      ],
      "text/plain": [
       "         lesion_id      image_id     dx dx_type   age     sex localization  \\\n",
       "0      HAM_0000118  ISIC_0027419    bkl   histo  80.0    male        scalp   \n",
       "1      HAM_0000118  ISIC_0025030    bkl   histo  80.0    male        scalp   \n",
       "2      HAM_0002730  ISIC_0026769    bkl   histo  80.0    male        scalp   \n",
       "3      HAM_0002730  ISIC_0025661    bkl   histo  80.0    male        scalp   \n",
       "4      HAM_0001466  ISIC_0031633    bkl   histo  75.0    male          ear   \n",
       "...            ...           ...    ...     ...   ...     ...          ...   \n",
       "10010  HAM_0002867  ISIC_0033084  akiec   histo  40.0    male      abdomen   \n",
       "10011  HAM_0002867  ISIC_0033550  akiec   histo  40.0    male      abdomen   \n",
       "10012  HAM_0002867  ISIC_0033536  akiec   histo  40.0    male      abdomen   \n",
       "10013  HAM_0000239  ISIC_0032854  akiec   histo  80.0    male         face   \n",
       "10014  HAM_0003521  ISIC_0032258    mel   histo  70.0  female         back   \n",
       "\n",
       "                                                    path  type_idx  \\\n",
       "0      C:\\Users\\Yong\\코드스테이츠 AI\\Section Project\\sectio...         2   \n",
       "1      C:\\Users\\Yong\\코드스테이츠 AI\\Section Project\\sectio...         2   \n",
       "2      C:\\Users\\Yong\\코드스테이츠 AI\\Section Project\\sectio...         2   \n",
       "3      C:\\Users\\Yong\\코드스테이츠 AI\\Section Project\\sectio...         2   \n",
       "4      C:\\Users\\Yong\\코드스테이츠 AI\\Section Project\\sectio...         2   \n",
       "...                                                  ...       ...   \n",
       "10010  C:\\Users\\Yong\\코드스테이츠 AI\\Section Project\\sectio...         0   \n",
       "10011  C:\\Users\\Yong\\코드스테이츠 AI\\Section Project\\sectio...         0   \n",
       "10012  C:\\Users\\Yong\\코드스테이츠 AI\\Section Project\\sectio...         0   \n",
       "10013  C:\\Users\\Yong\\코드스테이츠 AI\\Section Project\\sectio...         0   \n",
       "10014  C:\\Users\\Yong\\코드스테이츠 AI\\Section Project\\sectio...         4   \n",
       "\n",
       "                                                   image  \n",
       "0      [[[191, 154, 196], [191, 155, 197], [191, 149,...  \n",
       "1      [[[24, 13, 22], [24, 14, 25], [29, 17, 35], [4...  \n",
       "2      [[[187, 129, 139], [192, 135, 150], [197, 143,...  \n",
       "3      [[[23, 11, 18], [30, 15, 25], [50, 29, 39], [7...  \n",
       "4      [[[135, 91, 114], [152, 107, 131], [169, 125, ...  \n",
       "...                                                  ...  \n",
       "10010  [[[142, 124, 133], [139, 121, 130], [135, 117,...  \n",
       "10011  [[[5, 6, 3], [7, 8, 5], [7, 7, 5], [12, 12, 10...  \n",
       "10012  [[[114, 104, 106], [133, 121, 121], [140, 125,...  \n",
       "10013  [[[159, 122, 145], [156, 115, 132], [158, 122,...  \n",
       "10014  [[[178, 147, 135], [177, 143, 130], [180, 148,...  \n",
       "\n",
       "[9958 rows x 10 columns]"
      ]
     },
     "execution_count": 10,
     "metadata": {},
     "output_type": "execute_result"
    }
   ],
   "source": [
    "import numpy as np\n",
    "from PIL import Image\n",
    "\n",
    "# 경로를 통해 이미지 불러온 후 numpy배열로 변환하기\n",
    "skin_df['image'] = skin_df['path'].map(lambda x: np.asarray(Image.open(x).resize((75,100))))\n",
    "skin_df"
   ]
  },
  {
   "cell_type": "code",
   "execution_count": 11,
   "metadata": {},
   "outputs": [],
   "source": [
    "# 타겟 레이블 선택\n",
    "target=skin_df['type_idx']\n",
    "features = skin_df.drop(columns=['path','type_idx'], axis=1)"
   ]
  },
  {
   "cell_type": "code",
   "execution_count": 12,
   "metadata": {},
   "outputs": [
    {
     "data": {
      "text/plain": [
       "((7966, 8), (1992, 8), (7966,), (1992,))"
      ]
     },
     "execution_count": 12,
     "metadata": {},
     "output_type": "execute_result"
    }
   ],
   "source": [
    "# train, test split\n",
    "from sklearn.model_selection import train_test_split\n",
    "\n",
    "x_train, x_test, y_train, y_test = train_test_split(features, \n",
    "                                                    target, \n",
    "                                                    test_size=0.20,\n",
    "                                                    random_state=2)\n",
    "x_train.shape, x_test.shape, y_train.shape, y_test.shape"
   ]
  },
  {
   "cell_type": "code",
   "execution_count": 13,
   "metadata": {},
   "outputs": [],
   "source": [
    "# image normalization\n",
    "x_train = np.asarray(x_train['image'].tolist())\n",
    "x_test = np.asarray(x_test['image'].tolist())\n",
    "\n",
    "x_train_mean = np.mean(x_train)\n",
    "x_train_std = np.std(x_train)\n",
    "\n",
    "x_test_mean = np.mean(x_test)\n",
    "x_test_std = np.std(x_test)\n",
    "\n",
    "x_train = (x_train - x_train_mean)/x_train_std\n",
    "x_test = (x_test - x_test_mean)/x_test_std"
   ]
  },
  {
   "cell_type": "code",
   "execution_count": 14,
   "metadata": {},
   "outputs": [],
   "source": [
    "#conda install -c anaconda protobuf"
   ]
  },
  {
   "cell_type": "code",
   "execution_count": 15,
   "metadata": {
    "scrolled": false
   },
   "outputs": [],
   "source": [
    "#conda install -c conda-forge python-flatbuffers"
   ]
  },
  {
   "cell_type": "code",
   "execution_count": 16,
   "metadata": {},
   "outputs": [],
   "source": [
    "# 7개의 typeidx로 나눠진 target 레이블 원-핫인코딩\n",
    "from keras.utils import np_utils\n",
    "\n",
    "y_train = np_utils.to_categorical(y_train, num_classes=7)\n",
    "y_test = np_utils.to_categorical(y_test, num_classes=7)"
   ]
  },
  {
   "cell_type": "code",
   "execution_count": 17,
   "metadata": {},
   "outputs": [],
   "source": [
    "# 검증데이터 생성\n",
    "x_train, x_val, y_train, y_val = train_test_split(x_train, \n",
    "                                                  y_train, \n",
    "                                                  test_size = 0.2, \n",
    "                                                  random_state = 2)"
   ]
  },
  {
   "cell_type": "code",
   "execution_count": 18,
   "metadata": {},
   "outputs": [
    {
     "data": {
      "text/plain": [
       "((6372, 100, 75, 3), (1594, 100, 75, 3), (6372, 7), (1594, 7))"
      ]
     },
     "execution_count": 18,
     "metadata": {},
     "output_type": "execute_result"
    }
   ],
   "source": [
    "x_train.shape, x_val.shape, y_train.shape, y_val.shape"
   ]
  },
  {
   "cell_type": "markdown",
   "metadata": {},
   "source": [
    "x_train = np.asarray(x_train)\n",
    "x_val = np.asarray(x_val)\n",
    "x_test_img = np.asarray(x_test_img)"
   ]
  },
  {
   "cell_type": "code",
   "execution_count": 19,
   "metadata": {},
   "outputs": [
    {
     "data": {
      "text/plain": [
       "((6372, 75, 100, 3), (1594, 75, 100, 3), (1992, 75, 100, 3))"
      ]
     },
     "execution_count": 19,
     "metadata": {},
     "output_type": "execute_result"
    }
   ],
   "source": [
    "#reshape img\n",
    "x_train_f = x_train.reshape(x_train.shape[0], *(75,100,3))\n",
    "x_val_f = x_val.reshape(x_val.shape[0], *(75,100,3))\n",
    "x_test_f = x_test.reshape(x_test.shape[0], *(75,100,3))\n",
    "\n",
    "x_train_f.shape, x_val_f.shape, x_test_f.shape"
   ]
  },
  {
   "cell_type": "markdown",
   "metadata": {},
   "source": [
    "### CNN모델"
   ]
  },
  {
   "cell_type": "code",
   "execution_count": 20,
   "metadata": {},
   "outputs": [
    {
     "name": "stdout",
     "output_type": "stream",
     "text": [
      "Model: \"sequential\"\n",
      "_________________________________________________________________\n",
      "Layer (type)                 Output Shape              Param #   \n",
      "=================================================================\n",
      "conv2d (Conv2D)              (None, 75, 100, 32)       896       \n",
      "_________________________________________________________________\n",
      "conv2d_1 (Conv2D)            (None, 75, 100, 64)       18496     \n",
      "_________________________________________________________________\n",
      "max_pooling2d (MaxPooling2D) (None, 37, 50, 64)        0         \n",
      "_________________________________________________________________\n",
      "dropout (Dropout)            (None, 37, 50, 64)        0         \n",
      "_________________________________________________________________\n",
      "flatten (Flatten)            (None, 118400)            0         \n",
      "_________________________________________________________________\n",
      "dense (Dense)                (None, 128)               15155328  \n",
      "_________________________________________________________________\n",
      "dropout_1 (Dropout)          (None, 128)               0         \n",
      "_________________________________________________________________\n",
      "dense_1 (Dense)              (None, 7)                 903       \n",
      "=================================================================\n",
      "Total params: 15,175,623\n",
      "Trainable params: 15,175,623\n",
      "Non-trainable params: 0\n",
      "_________________________________________________________________\n"
     ]
    }
   ],
   "source": [
    "from keras.models import Sequential\n",
    "from keras.layers import Dense, Dropout, Flatten, Conv2D, MaxPool2D\n",
    "\n",
    "input_shape = (75, 100, 3)\n",
    "num_classes = 7\n",
    "\n",
    "model = Sequential()\n",
    "model.add(Conv2D(32,(3, 3),activation='relu',\n",
    "                 padding = 'Same',\n",
    "                 input_shape=input_shape))\n",
    "#model.add(MaxPool2D((2, 2)))\n",
    "model.add(Conv2D(64, (3, 3), activation='relu',padding = 'Same'))\n",
    "model.add(MaxPool2D((2, 2)))\n",
    "model.add(Dropout(0.25))\n",
    "model.add(Flatten())\n",
    "model.add(Dense(128, activation='relu'))\n",
    "model.add(Dropout(0.5))\n",
    "model.add(Dense(num_classes, activation='softmax'))\n",
    "\n",
    "model.summary()"
   ]
  },
  {
   "cell_type": "code",
   "execution_count": 21,
   "metadata": {},
   "outputs": [],
   "source": [
    "model.compile(optimizer='adam',\n",
    "              loss='categorical_crossentropy',\n",
    "              metrics=['accuracy'])"
   ]
  },
  {
   "cell_type": "code",
   "execution_count": 22,
   "metadata": {},
   "outputs": [],
   "source": [
    "from keras.preprocessing.image import ImageDataGenerator\n",
    "\n",
    "# 입력 이미지, 데이터 증량(Augmentation)\n",
    "datagen = ImageDataGenerator(\n",
    "    featurewise_center=False,            # input의 평균이 0이 되게함\n",
    "    featurewise_std_normalization=False, #input을 각 특성의 표준편차로 나눔\n",
    "    rotation_range=10,                    # 무작위 회전각도\n",
    "    width_shift_range=0.1,\n",
    "    height_shift_range=0.1,\n",
    "    horizontal_flip=False,                # input을 무작위로 가로로 뒤집음\n",
    "    vertical_flip=False)                 # input을 무작위로 세로로 뒤집음\n",
    "\n",
    "datagen.fit(x_train_f)"
   ]
  },
  {
   "cell_type": "code",
   "execution_count": 23,
   "metadata": {
    "scrolled": false
   },
   "outputs": [
    {
     "name": "stdout",
     "output_type": "stream",
     "text": [
      "Epoch 1/20\n",
      "99/99 [==============================] - 71s 708ms/step - loss: 1.5127 - accuracy: 0.6508 - val_loss: 0.9677 - val_accuracy: 0.6506\n",
      "Epoch 2/20\n",
      "99/99 [==============================] - 70s 704ms/step - loss: 0.9620 - accuracy: 0.6666 - val_loss: 0.9643 - val_accuracy: 0.6581\n",
      "Epoch 3/20\n",
      "99/99 [==============================] - 70s 707ms/step - loss: 0.9017 - accuracy: 0.6734 - val_loss: 0.9104 - val_accuracy: 0.6606\n",
      "Epoch 4/20\n",
      "99/99 [==============================] - 79s 800ms/step - loss: 0.8592 - accuracy: 0.6796 - val_loss: 1.0772 - val_accuracy: 0.6562\n",
      "Epoch 5/20\n",
      "99/99 [==============================] - 85s 860ms/step - loss: 0.8686 - accuracy: 0.6867 - val_loss: 0.8839 - val_accuracy: 0.6813\n",
      "Epoch 6/20\n",
      "99/99 [==============================] - 89s 898ms/step - loss: 0.8240 - accuracy: 0.6940 - val_loss: 0.8702 - val_accuracy: 0.6775\n",
      "Epoch 7/20\n",
      "99/99 [==============================] - 76s 764ms/step - loss: 0.8186 - accuracy: 0.6967 - val_loss: 0.8613 - val_accuracy: 0.6951\n",
      "Epoch 8/20\n",
      "99/99 [==============================] - 76s 764ms/step - loss: 0.8142 - accuracy: 0.7009 - val_loss: 0.8207 - val_accuracy: 0.6976\n",
      "Epoch 9/20\n",
      "99/99 [==============================] - 78s 784ms/step - loss: 0.7821 - accuracy: 0.7074 - val_loss: 0.8199 - val_accuracy: 0.7102\n",
      "Epoch 10/20\n",
      "99/99 [==============================] - 77s 775ms/step - loss: 0.7541 - accuracy: 0.7175 - val_loss: 0.7933 - val_accuracy: 0.7058\n",
      "Epoch 11/20\n",
      "99/99 [==============================] - 80s 803ms/step - loss: 0.7574 - accuracy: 0.7159 - val_loss: 0.9067 - val_accuracy: 0.6920\n",
      "Epoch 12/20\n",
      "99/99 [==============================] - 79s 801ms/step - loss: 0.7373 - accuracy: 0.7238 - val_loss: 0.7591 - val_accuracy: 0.7196\n",
      "Epoch 13/20\n",
      "99/99 [==============================] - 82s 827ms/step - loss: 0.7261 - accuracy: 0.7283 - val_loss: 0.8884 - val_accuracy: 0.7014\n",
      "Epoch 14/20\n",
      "99/99 [==============================] - 79s 802ms/step - loss: 0.7241 - accuracy: 0.7272 - val_loss: 0.8555 - val_accuracy: 0.7058\n",
      "Epoch 15/20\n",
      "99/99 [==============================] - 79s 794ms/step - loss: 0.7276 - accuracy: 0.7322 - val_loss: 0.8343 - val_accuracy: 0.7020\n",
      "Epoch 16/20\n",
      "99/99 [==============================] - 78s 790ms/step - loss: 0.7030 - accuracy: 0.7294 - val_loss: 0.8805 - val_accuracy: 0.7152\n",
      "Epoch 17/20\n",
      "99/99 [==============================] - 80s 805ms/step - loss: 0.7102 - accuracy: 0.7341 - val_loss: 0.7647 - val_accuracy: 0.7177\n",
      "Epoch 00017: early stopping\n"
     ]
    }
   ],
   "source": [
    "from keras.callbacks import EarlyStopping\n",
    "# 모델 학습시키기\n",
    "early_stopping = EarlyStopping(monitor='val_loss', patience=5, verbose=1)\n",
    "epochs = 20\n",
    "batch_size = 64\n",
    "hist = model.fit(datagen.flow(x_train_f, y_train, batch_size=batch_size),\n",
    "          validation_data = (x_val_f,y_val),\n",
    "          steps_per_epoch=len(x_train_f) // batch_size, \n",
    "          epochs=epochs, \n",
    "          callbacks=[early_stopping],\n",
    "          verbose = 1)"
   ]
  },
  {
   "cell_type": "code",
   "execution_count": 24,
   "metadata": {},
   "outputs": [],
   "source": [
    "# CNN모델링 결과 0.7정도의 성능에 높은loss를 가져 learning rate조절하여 모델개선필요"
   ]
  },
  {
   "cell_type": "code",
   "execution_count": 25,
   "metadata": {},
   "outputs": [
    {
     "name": "stdout",
     "output_type": "stream",
     "text": [
      "63/63 [==============================] - 4s 68ms/step - loss: 0.7563 - accuracy: 0.7294\n"
     ]
    }
   ],
   "source": [
    "loss, accuracy = model.evaluate(x_test_f, y_test, verbose=1)"
   ]
  },
  {
   "cell_type": "code",
   "execution_count": 26,
   "metadata": {},
   "outputs": [
    {
     "data": {
      "image/png": "[encoded data removed]",
      "text/plain": [
       "<Figure size 432x288 with 1 Axes>"
      ]
     },
     "metadata": {
      "needs_background": "light"
     },
     "output_type": "display_data"
    },
    {
     "data": {
      "image/png": "[encoded data removed]",
      "text/plain": [
       "<Figure size 432x288 with 1 Axes>"
      ]
     },
     "metadata": {
      "needs_background": "light"
     },
     "output_type": "display_data"
    }
   ],
   "source": [
    "import matplotlib.pyplot as plt\n",
    "\n",
    "acc = hist.history['accuracy']           # 훈련 정확도\n",
    "val_acc = hist.history['val_accuracy']   # 검증 정확도\n",
    "loss = hist.history['loss']              # 훈련 손실값\n",
    "val_loss = hist.history['val_loss']      # 검증 손실값\n",
    "\n",
    "epochs = range(len(acc))\n",
    "\n",
    "plt.plot(epochs, acc, 'bo', label='Training accuracy')\n",
    "plt.plot(epochs, val_acc, 'b', label='Validation accuracy')\n",
    "plt.title('Training and validation accuracy')\n",
    "plt.legend()\n",
    "\n",
    "plt.figure()\n",
    "\n",
    "plt.plot(epochs, loss, 'go', label='Training Loss')\n",
    "plt.plot(epochs, val_loss, 'g', label='Validation Loss')\n",
    "plt.title('Training and validation loss')\n",
    "plt.legend()\n",
    "\n",
    "plt.show()"
   ]
  },
  {
   "cell_type": "markdown",
   "metadata": {},
   "source": [
    "### confusion matrix"
   ]
  },
  {
   "cell_type": "code",
   "execution_count": 27,
   "metadata": {},
   "outputs": [
    {
     "data": {
      "image/png": "[encoded data removed]",
      "text/plain": [
       "<Figure size 432x288 with 2 Axes>"
      ]
     },
     "metadata": {
      "needs_background": "light"
     },
     "output_type": "display_data"
    }
   ],
   "source": [
    "from sklearn.metrics import confusion_matrix\n",
    "from sklearn.metrics import classification_report\n",
    "import itertools\n",
    "\n",
    "def plot_confusion_matrix(cm, classes,\n",
    "                          normalize=False,\n",
    "                          title='Confusion matrix',\n",
    "                          cmap=plt.cm.Blues):\n",
    "    \"\"\"\n",
    "    This function prints and plots the confusion matrix.\n",
    "    Normalization can be applied by setting `normalize=True`.\n",
    "    \"\"\"\n",
    "    plt.imshow(cm, interpolation='nearest', cmap=cmap)\n",
    "    plt.title(title)\n",
    "    plt.colorbar()\n",
    "    tick_marks = np.arange(len(classes))\n",
    "    plt.xticks(tick_marks, classes, rotation=45)\n",
    "    plt.yticks(tick_marks, classes)\n",
    "\n",
    "    if normalize:\n",
    "        cm = cm.astype('float') / cm.sum(axis=1)[:, np.newaxis]\n",
    "\n",
    "    thresh = cm.max() / 2.\n",
    "    for i, j in itertools.product(range(cm.shape[0]), range(cm.shape[1])):\n",
    "        plt.text(j, i, cm[i, j],\n",
    "                 horizontalalignment=\"center\",\n",
    "                 color=\"white\" if cm[i, j] > thresh else \"black\")\n",
    "\n",
    "    plt.tight_layout()\n",
    "    plt.ylabel('True label')\n",
    "    plt.xlabel('Predicted label')\n",
    "\n",
    "# Predict the values from the validation dataset\n",
    "Y_pred = model.predict(x_val_f)\n",
    "# Convert predictions classes to one hot vectors \n",
    "Y_pred_classes = np.argmax(Y_pred,axis = 1) \n",
    "# Convert validation observations to one hot vectors\n",
    "Y_true = np.argmax(y_val, axis = 1) \n",
    "# compute the confusion matrix\n",
    "confusion_mtx = confusion_matrix(Y_true, Y_pred_classes)\n",
    "\n",
    " \n",
    "\n",
    "# plot the confusion matrix\n",
    "plot_confusion_matrix(confusion_mtx, classes = range(7)) "
   ]
  },
  {
   "cell_type": "code",
   "execution_count": 28,
   "metadata": {},
   "outputs": [
    {
     "data": {
      "text/plain": [
       "Text(0, 0.5, 'Fraction classified incorrectly')"
      ]
     },
     "execution_count": 28,
     "metadata": {},
     "output_type": "execute_result"
    },
    {
     "data": {
      "image/png": "[encoded data removed]",
      "text/plain": [
       "<Figure size 432x288 with 1 Axes>"
      ]
     },
     "metadata": {
      "needs_background": "light"
     },
     "output_type": "display_data"
    }
   ],
   "source": [
    "# 예측 부정확도 확인\n",
    "\n",
    "label_frac_error = 1 - np.diag(confusion_mtx) / np.sum(confusion_mtx, axis=1)\n",
    "plt.bar(np.arange(7),label_frac_error)\n",
    "plt.xlabel('True Label')\n",
    "plt.ylabel('Fraction classified incorrectly')"
   ]
  },
  {
   "cell_type": "markdown",
   "metadata": {},
   "source": [
    "### Densenet모델"
   ]
  },
  {
   "cell_type": "markdown",
   "metadata": {},
   "source": [
    "import torch\n",
    "from torch import optim,nn\n",
    "from torchvision import models,transforms\n",
    "\n",
    "torch.manual_seed(10)\n",
    "torch.cuda.manual_seed(10)\n",
    "\n",
    "num_classes=7\n",
    "input_size = 224\n",
    "\n",
    "model_ft = models.densenet121(pretrained=True)\n",
    "num_ftrs = model_ft.classifier.in_features\n",
    "model_ft.classifier = nn.Linear(num_ftrs, num_classes)"
   ]
  },
  {
   "cell_type": "markdown",
   "metadata": {},
   "source": [
    "### 테스트 이미지 분류확인\n",
    "- 분류정확도가 낮은 흑색종(Melanoma)과 분류정확도가 높은 멜라닌세포모반(Melanocytic nevi) 테스트"
   ]
  },
  {
   "cell_type": "code",
   "execution_count": 29,
   "metadata": {},
   "outputs": [],
   "source": [
    "import numpy as np\n",
    "from PIL import Image\n",
    "from keras.preprocessing import image\n",
    "from keras.preprocessing.image import img_to_array, load_img, array_to_img\n",
    "\n",
    "melanoma_img = Image.open('HAM/Melanoma.jpg').resize((100, 75))\n",
    "nv_img = Image.open('HAM/melanocytic_nevi.jpg').resize((100, 75))\n",
    "\n",
    "x = image.img_to_array(melanoma_img)\n",
    "x=np.expand_dims(x, axis=0)\n",
    "y = image.img_to_array(nv_img)\n",
    "y=np.expand_dims(y, axis=0)\n",
    "\n",
    "img1 = np.vstack([x])\n",
    "img2 = np.vstack([y])\n",
    "\n",
    "classes1 = model.predict(img1, batch_size=10)\n",
    "classes2 = model.predict(img2, batch_size=10)"
   ]
  },
  {
   "cell_type": "code",
   "execution_count": 30,
   "metadata": {},
   "outputs": [
    {
     "name": "stdout",
     "output_type": "stream",
     "text": [
      "[0. 0. 0. 0. 0. 1. 0.]\n"
     ]
    }
   ],
   "source": [
    "np.set_printoptions(precision=6, suppress=True)\n",
    "print(classes1[0])       # incorrect"
   ]
  },
  {
   "cell_type": "code",
   "execution_count": 49,
   "metadata": {},
   "outputs": [
    {
     "name": "stdout",
     "output_type": "stream",
     "text": [
      "[0. 1. 0. 0. 0. 0. 0.]\n"
     ]
    }
   ],
   "source": [
    "print(classes2[0])       # correct"
   ]
  },
  {
   "cell_type": "markdown",
   "metadata": {},
   "source": [
    "### resnet"
   ]
  },
  {
   "cell_type": "code",
   "execution_count": 32,
   "metadata": {},
   "outputs": [
    {
     "name": "stdout",
     "output_type": "stream",
     "text": [
      "Model: \"sequential_1\"\n",
      "_________________________________________________________________\n",
      "Layer (type)                 Output Shape              Param #   \n",
      "=================================================================\n",
      "resnet50 (Functional)        (None, 2048)              23587712  \n",
      "_________________________________________________________________\n",
      "dense_2 (Dense)              (None, 7)                 14343     \n",
      "=================================================================\n",
      "Total params: 23,602,055\n",
      "Trainable params: 14,343\n",
      "Non-trainable params: 23,587,712\n",
      "_________________________________________________________________\n"
     ]
    }
   ],
   "source": [
    "from tensorflow.keras.applications.resnet50 import ResNet50\n",
    "\n",
    "# 모델 제작\n",
    "model_resnet = Sequential()\n",
    "model_resnet.add(ResNet50(include_top = False, pooling = 'avg')) \n",
    "model_resnet.add(Dense(7, activation = 'softmax'))\n",
    "\n",
    "model_resnet.layers[0].trainable = False\n",
    "model_resnet.summary()"
   ]
  },
  {
   "cell_type": "code",
   "execution_count": 33,
   "metadata": {},
   "outputs": [],
   "source": [
    "model_resnet.compile(optimizer='adam',\n",
    "              loss='categorical_crossentropy',\n",
    "              metrics=['accuracy'])"
   ]
  },
  {
   "cell_type": "code",
   "execution_count": 34,
   "metadata": {},
   "outputs": [],
   "source": [
    "datagen_res = ImageDataGenerator(\n",
    "    featurewise_center=False,            # input의 평균이 0이 되게함\n",
    "    featurewise_std_normalization=False, #input을 각 특성의 표준편차로 나눔\n",
    "    rotation_range=10,                    # 무작위 회전각도\n",
    "    width_shift_range=0.1,\n",
    "    height_shift_range=0.1,\n",
    "    horizontal_flip=False,                # input을 무작위로 가로로 뒤집음\n",
    "    vertical_flip=False)                 # input을 무작위로 세로로 뒤집음\n",
    "\n",
    "datagen_res.fit(x_train_f)"
   ]
  },
  {
   "cell_type": "code",
   "execution_count": 35,
   "metadata": {},
   "outputs": [
    {
     "name": "stdout",
     "output_type": "stream",
     "text": [
      "Epoch 1/20\n",
      "199/199 [==============================] - 67s 327ms/step - loss: 1.0637 - accuracy: 0.6748\n",
      "WARNING:tensorflow:Early stopping conditioned on metric `val_loss` which is not available. Available metrics are: loss,accuracy\n",
      "Epoch 2/20\n",
      "199/199 [==============================] - 67s 337ms/step - loss: 0.9784 - accuracy: 0.6797\n",
      "WARNING:tensorflow:Early stopping conditioned on metric `val_loss` which is not available. Available metrics are: loss,accuracy\n",
      "Epoch 3/20\n",
      "199/199 [==============================] - 67s 337ms/step - loss: 0.9582 - accuracy: 0.6811\n",
      "WARNING:tensorflow:Early stopping conditioned on metric `val_loss` which is not available. Available metrics are: loss,accuracy\n",
      "Epoch 4/20\n",
      "199/199 [==============================] - 65s 326ms/step - loss: 0.9365 - accuracy: 0.6830\n",
      "WARNING:tensorflow:Early stopping conditioned on metric `val_loss` which is not available. Available metrics are: loss,accuracy\n",
      "Epoch 5/20\n",
      "199/199 [==============================] - 66s 332ms/step - loss: 0.9354 - accuracy: 0.6824\n",
      "WARNING:tensorflow:Early stopping conditioned on metric `val_loss` which is not available. Available metrics are: loss,accuracy\n",
      "Epoch 6/20\n",
      "199/199 [==============================] - 65s 325ms/step - loss: 0.9217 - accuracy: 0.6904\n",
      "WARNING:tensorflow:Early stopping conditioned on metric `val_loss` which is not available. Available metrics are: loss,accuracy\n",
      "Epoch 7/20\n",
      "199/199 [==============================] - 66s 333ms/step - loss: 0.9195 - accuracy: 0.6864\n",
      "WARNING:tensorflow:Early stopping conditioned on metric `val_loss` which is not available. Available metrics are: loss,accuracy\n",
      "Epoch 8/20\n",
      "199/199 [==============================] - 65s 324ms/step - loss: 0.9107 - accuracy: 0.6842\n",
      "WARNING:tensorflow:Early stopping conditioned on metric `val_loss` which is not available. Available metrics are: loss,accuracy\n",
      "Epoch 9/20\n",
      "199/199 [==============================] - 69s 346ms/step - loss: 0.9053 - accuracy: 0.6872\n",
      "WARNING:tensorflow:Early stopping conditioned on metric `val_loss` which is not available. Available metrics are: loss,accuracy\n",
      "Epoch 10/20\n",
      "199/199 [==============================] - 72s 364ms/step - loss: 0.9019 - accuracy: 0.6905\n",
      "WARNING:tensorflow:Early stopping conditioned on metric `val_loss` which is not available. Available metrics are: loss,accuracy\n",
      "Epoch 11/20\n",
      "199/199 [==============================] - 73s 367ms/step - loss: 0.8974 - accuracy: 0.6891\n",
      "WARNING:tensorflow:Early stopping conditioned on metric `val_loss` which is not available. Available metrics are: loss,accuracy\n",
      "Epoch 12/20\n",
      "199/199 [==============================] - 76s 384ms/step - loss: 0.8907 - accuracy: 0.6922\n",
      "WARNING:tensorflow:Early stopping conditioned on metric `val_loss` which is not available. Available metrics are: loss,accuracy\n",
      "Epoch 13/20\n",
      "199/199 [==============================] - 63s 316ms/step - loss: 0.8891 - accuracy: 0.6949\n",
      "WARNING:tensorflow:Early stopping conditioned on metric `val_loss` which is not available. Available metrics are: loss,accuracy\n",
      "Epoch 14/20\n",
      "199/199 [==============================] - 67s 337ms/step - loss: 0.8857 - accuracy: 0.6916\n",
      "WARNING:tensorflow:Early stopping conditioned on metric `val_loss` which is not available. Available metrics are: loss,accuracy\n",
      "Epoch 15/20\n",
      "199/199 [==============================] - 68s 342ms/step - loss: 0.8867 - accuracy: 0.6916\n",
      "WARNING:tensorflow:Early stopping conditioned on metric `val_loss` which is not available. Available metrics are: loss,accuracy\n",
      "Epoch 16/20\n",
      "199/199 [==============================] - 67s 335ms/step - loss: 0.8818 - accuracy: 0.6949\n",
      "WARNING:tensorflow:Early stopping conditioned on metric `val_loss` which is not available. Available metrics are: loss,accuracy\n",
      "Epoch 17/20\n",
      "199/199 [==============================] - 67s 335ms/step - loss: 0.8721 - accuracy: 0.6955\n",
      "WARNING:tensorflow:Early stopping conditioned on metric `val_loss` which is not available. Available metrics are: loss,accuracy\n",
      "Epoch 18/20\n",
      "199/199 [==============================] - 68s 342ms/step - loss: 0.8721 - accuracy: 0.6963\n",
      "WARNING:tensorflow:Early stopping conditioned on metric `val_loss` which is not available. Available metrics are: loss,accuracy\n",
      "Epoch 19/20\n",
      "199/199 [==============================] - 65s 329ms/step - loss: 0.8768 - accuracy: 0.6949\n",
      "WARNING:tensorflow:Early stopping conditioned on metric `val_loss` which is not available. Available metrics are: loss,accuracy\n",
      "Epoch 20/20\n",
      "199/199 [==============================] - 68s 339ms/step - loss: 0.8705 - accuracy: 0.6922\n",
      "WARNING:tensorflow:Early stopping conditioned on metric `val_loss` which is not available. Available metrics are: loss,accuracy\n"
     ]
    },
    {
     "data": {
      "text/plain": [
       "<keras.callbacks.History at 0x245bb123208>"
      ]
     },
     "execution_count": 35,
     "metadata": {},
     "output_type": "execute_result"
    }
   ],
   "source": [
    "model_resnet.fit(datagen_res.flow(x_train_f, y_train, batch_size=32),\n",
    "        steps_per_epoch=len(x_train_f) / 32, epochs=20, callbacks=[early_stopping])"
   ]
  },
  {
   "cell_type": "code",
   "execution_count": 36,
   "metadata": {},
   "outputs": [
    {
     "name": "stdout",
     "output_type": "stream",
     "text": [
      "63/63 [==============================] - 21s 327ms/step - loss: 1.0155 - accuracy: 0.6662\n"
     ]
    }
   ],
   "source": [
    "loss, accuracy = model_resnet.evaluate(x_test_f, y_test, verbose=1)"
   ]
  },
  {
   "cell_type": "code",
   "execution_count": 37,
   "metadata": {},
   "outputs": [
    {
     "data": {
      "image/png": "[encoded data removed]",
      "text/plain": [
       "<Figure size 432x288 with 2 Axes>"
      ]
     },
     "metadata": {
      "needs_background": "light"
     },
     "output_type": "display_data"
    }
   ],
   "source": [
    "Y_pred_res = model_resnet.predict(x_val_f)\n",
    "# Convert predictions classes to one hot vectors \n",
    "Y_pred_classes_res = np.argmax(Y_pred_res,axis = 1) \n",
    "# Convert validation observations to one hot vectors\n",
    "Y_true_res = np.argmax(y_val, axis = 1) \n",
    "# compute the confusion matrix\n",
    "confusion_mtx_res = confusion_matrix(Y_true_res, Y_pred_classes_res)\n",
    "\n",
    "# plot the confusion matrix\n",
    "plot_confusion_matrix(confusion_mtx_res, classes = range(7)) "
   ]
  },
  {
   "cell_type": "code",
   "execution_count": 38,
   "metadata": {},
   "outputs": [
    {
     "data": {
      "text/plain": [
       "Text(0, 0.5, 'Fraction classified incorrectly')"
      ]
     },
     "execution_count": 38,
     "metadata": {},
     "output_type": "execute_result"
    },
    {
     "data": {
      "image/png": "[encoded data removed]",
      "text/plain": [
       "<Figure size 432x288 with 1 Axes>"
      ]
     },
     "metadata": {
      "needs_background": "light"
     },
     "output_type": "display_data"
    }
   ],
   "source": [
    "label_frac_error = 1 - np.diag(confusion_mtx_res) / np.sum(confusion_mtx_res, axis=1)\n",
    "plt.bar(np.arange(7),label_frac_error)\n",
    "plt.xlabel('True Label')\n",
    "plt.ylabel('Fraction classified incorrectly')"
   ]
  },
  {
   "cell_type": "markdown",
   "metadata": {},
   "source": [
    "### Cross Validation"
   ]
  },
  {
   "cell_type": "code",
   "execution_count": 39,
   "metadata": {},
   "outputs": [
    {
     "name": "stdout",
     "output_type": "stream",
     "text": [
      "Model: \"sequential\"\n",
      "_________________________________________________________________\n",
      "Layer (type)                 Output Shape              Param #   \n",
      "=================================================================\n",
      "conv2d (Conv2D)              (None, 75, 100, 32)       896       \n",
      "_________________________________________________________________\n",
      "conv2d_1 (Conv2D)            (None, 75, 100, 64)       18496     \n",
      "_________________________________________________________________\n",
      "max_pooling2d (MaxPooling2D) (None, 37, 50, 64)        0         \n",
      "_________________________________________________________________\n",
      "dropout (Dropout)            (None, 37, 50, 64)        0         \n",
      "_________________________________________________________________\n",
      "flatten (Flatten)            (None, 118400)            0         \n",
      "_________________________________________________________________\n",
      "dense (Dense)                (None, 128)               15155328  \n",
      "_________________________________________________________________\n",
      "dropout_1 (Dropout)          (None, 128)               0         \n",
      "_________________________________________________________________\n",
      "dense_1 (Dense)              (None, 7)                 903       \n",
      "=================================================================\n",
      "Total params: 15,175,623\n",
      "Trainable params: 15,175,623\n",
      "Non-trainable params: 0\n",
      "_________________________________________________________________\n"
     ]
    }
   ],
   "source": [
    "model.summary()"
   ]
  },
  {
   "cell_type": "code",
   "execution_count": 40,
   "metadata": {},
   "outputs": [],
   "source": [
    "from keras.callbacks import ModelCheckpoint, EarlyStopping\n",
    "\n",
    "pat = 5 #this is the number of epochs with no improvment after which the training will stop\n",
    "early_stopping = EarlyStopping(monitor='val_loss', patience=pat, verbose=1) # 5epoch이상 성능이 좋아지지 않으면 학습멈춤\n",
    "\n",
    "#define the model checkpoint callback -> this will keep on saving the model as a physical file\n",
    "model_checkpoint = ModelCheckpoint('Ham_mnist_1.h5', verbose=1, save_best_only=True)\n",
    "\n",
    "#define a function to fit the model\n",
    "def fit_and_evaluate(t_x, val_x, t_y, val_y, EPOCHS, BATCH_SIZE):\n",
    "    results = model.fit(t_x, t_y, epochs=EPOCHS, batch_size=BATCH_SIZE, callbacks=[early_stopping, model_checkpoint], \n",
    "              verbose=1, validation_split=0.1)  \n",
    "    print(\"Val Score: \", model.evaluate(val_x, val_y))\n",
    "    return results"
   ]
  },
  {
   "cell_type": "code",
   "execution_count": 41,
   "metadata": {
    "scrolled": false
   },
   "outputs": [
    {
     "name": "stdout",
     "output_type": "stream",
     "text": [
      "Training on Fold:  1\n",
      "Epoch 1/20\n",
      "144/144 [==============================] - 58s 402ms/step - loss: 0.7350 - accuracy: 0.7312 - val_loss: 0.7277 - val_accuracy: 0.7275\n",
      "\n",
      "Epoch 00001: val_loss improved from inf to 0.72769, saving model to Ham_mnist_1.h5\n",
      "Epoch 2/20\n",
      "144/144 [==============================] - 59s 411ms/step - loss: 0.6761 - accuracy: 0.7539 - val_loss: 0.7091 - val_accuracy: 0.7412\n",
      "\n",
      "Epoch 00002: val_loss improved from 0.72769 to 0.70906, saving model to Ham_mnist_1.h5\n",
      "Epoch 3/20\n",
      "144/144 [==============================] - 58s 403ms/step - loss: 0.5958 - accuracy: 0.7733 - val_loss: 0.6921 - val_accuracy: 0.7255\n",
      "\n",
      "Epoch 00003: val_loss improved from 0.70906 to 0.69213, saving model to Ham_mnist_1.h5\n",
      "Epoch 4/20\n",
      "144/144 [==============================] - 58s 403ms/step - loss: 0.5359 - accuracy: 0.7997 - val_loss: 0.6850 - val_accuracy: 0.7431\n",
      "\n",
      "Epoch 00004: val_loss improved from 0.69213 to 0.68504, saving model to Ham_mnist_1.h5\n",
      "Epoch 5/20\n",
      "144/144 [==============================] - 59s 408ms/step - loss: 0.4544 - accuracy: 0.8223 - val_loss: 0.6917 - val_accuracy: 0.7471\n",
      "\n",
      "Epoch 00005: val_loss did not improve from 0.68504\n",
      "Epoch 6/20\n",
      "144/144 [==============================] - 60s 413ms/step - loss: 0.4042 - accuracy: 0.8459 - val_loss: 0.7230 - val_accuracy: 0.7569\n",
      "\n",
      "Epoch 00006: val_loss did not improve from 0.68504\n",
      "Epoch 7/20\n",
      "144/144 [==============================] - 59s 412ms/step - loss: 0.3589 - accuracy: 0.8633 - val_loss: 0.7215 - val_accuracy: 0.7451\n",
      "\n",
      "Epoch 00007: val_loss did not improve from 0.68504\n",
      "Epoch 8/20\n",
      "144/144 [==============================] - 57s 399ms/step - loss: 0.3063 - accuracy: 0.8884 - val_loss: 0.8296 - val_accuracy: 0.7412\n",
      "\n",
      "Epoch 00008: val_loss did not improve from 0.68504\n",
      "Epoch 9/20\n",
      "144/144 [==============================] - 58s 400ms/step - loss: 0.2693 - accuracy: 0.8967 - val_loss: 0.7898 - val_accuracy: 0.7549\n",
      "\n",
      "Epoch 00009: val_loss did not improve from 0.68504\n",
      "Epoch 00009: early stopping\n",
      "40/40 [==============================] - 3s 70ms/step - loss: 0.7087 - accuracy: 0.7584\n",
      "Val Score:  [0.7086831331253052, 0.7584313750267029]\n",
      "====================================================================================\n",
      "\n",
      "\n",
      "Training on Fold:  2\n",
      "Epoch 1/20\n",
      "144/144 [==============================] - 58s 405ms/step - loss: 0.4281 - accuracy: 0.8583 - val_loss: 0.3416 - val_accuracy: 0.8882\n",
      "\n",
      "Epoch 00001: val_loss improved from 0.68504 to 0.34156, saving model to Ham_mnist_1.h5\n",
      "Epoch 2/20\n",
      "144/144 [==============================] - 59s 413ms/step - loss: 0.3504 - accuracy: 0.8760 - val_loss: 0.2849 - val_accuracy: 0.9098\n",
      "\n",
      "Epoch 00002: val_loss improved from 0.34156 to 0.28494, saving model to Ham_mnist_1.h5\n",
      "Epoch 3/20\n",
      "144/144 [==============================] - 58s 400ms/step - loss: 0.2751 - accuracy: 0.8947 - val_loss: 0.3004 - val_accuracy: 0.9020\n",
      "\n",
      "Epoch 00003: val_loss did not improve from 0.28494\n",
      "Epoch 4/20\n",
      "144/144 [==============================] - 59s 407ms/step - loss: 0.2267 - accuracy: 0.9163 - val_loss: 0.3186 - val_accuracy: 0.8922\n",
      "\n",
      "Epoch 00004: val_loss did not improve from 0.28494\n",
      "Epoch 5/20\n",
      "144/144 [==============================] - 50s 347ms/step - loss: 0.2118 - accuracy: 0.9222 - val_loss: 0.3057 - val_accuracy: 0.8961\n",
      "\n",
      "Epoch 00005: val_loss did not improve from 0.28494\n",
      "Epoch 6/20\n",
      "144/144 [==============================] - 56s 391ms/step - loss: 0.1686 - accuracy: 0.9368 - val_loss: 0.3196 - val_accuracy: 0.8922\n",
      "\n",
      "Epoch 00006: val_loss did not improve from 0.28494\n",
      "Epoch 7/20\n",
      "144/144 [==============================] - 60s 413ms/step - loss: 0.1498 - accuracy: 0.9446 - val_loss: 0.3523 - val_accuracy: 0.9000\n",
      "\n",
      "Epoch 00007: val_loss did not improve from 0.28494\n",
      "Epoch 00007: early stopping\n",
      "40/40 [==============================] - 2s 59ms/step - loss: 0.4633 - accuracy: 0.8769\n",
      "Val Score:  [0.4633139371871948, 0.8768627643585205]\n",
      "====================================================================================\n",
      "\n",
      "\n",
      "Training on Fold:  3\n",
      "Epoch 1/20\n",
      "144/144 [==============================] - 52s 363ms/step - loss: 0.2962 - accuracy: 0.9071 - val_loss: 0.1741 - val_accuracy: 0.9471\n",
      "\n",
      "Epoch 00001: val_loss improved from 0.28494 to 0.17415, saving model to Ham_mnist_1.h5\n",
      "Epoch 2/20\n",
      "144/144 [==============================] - 52s 362ms/step - loss: 0.1867 - accuracy: 0.9363 - val_loss: 0.1518 - val_accuracy: 0.9608\n",
      "\n",
      "Epoch 00002: val_loss improved from 0.17415 to 0.15176, saving model to Ham_mnist_1.h5\n",
      "Epoch 3/20\n",
      "144/144 [==============================] - 52s 360ms/step - loss: 0.1754 - accuracy: 0.9361 - val_loss: 0.1259 - val_accuracy: 0.9569\n",
      "\n",
      "Epoch 00003: val_loss improved from 0.15176 to 0.12593, saving model to Ham_mnist_1.h5\n",
      "Epoch 4/20\n",
      "144/144 [==============================] - 57s 394ms/step - loss: 0.1452 - accuracy: 0.9451 - val_loss: 0.1468 - val_accuracy: 0.9510\n",
      "\n",
      "Epoch 00004: val_loss did not improve from 0.12593\n",
      "Epoch 5/20\n",
      "144/144 [==============================] - 56s 388ms/step - loss: 0.1172 - accuracy: 0.9575 - val_loss: 0.1497 - val_accuracy: 0.9588\n",
      "\n",
      "Epoch 00005: val_loss did not improve from 0.12593\n",
      "Epoch 6/20\n",
      "144/144 [==============================] - 52s 358ms/step - loss: 0.1109 - accuracy: 0.9610 - val_loss: 0.2105 - val_accuracy: 0.9412\n",
      "\n",
      "Epoch 00006: val_loss did not improve from 0.12593\n",
      "Epoch 7/20\n",
      "144/144 [==============================] - 52s 362ms/step - loss: 0.0892 - accuracy: 0.9680 - val_loss: 0.1868 - val_accuracy: 0.9471\n",
      "\n",
      "Epoch 00007: val_loss did not improve from 0.12593\n",
      "Epoch 8/20\n",
      "144/144 [==============================] - 52s 359ms/step - loss: 0.1054 - accuracy: 0.9612 - val_loss: 0.2095 - val_accuracy: 0.9431\n",
      "\n",
      "Epoch 00008: val_loss did not improve from 0.12593\n",
      "Epoch 00008: early stopping\n",
      "40/40 [==============================] - 2s 59ms/step - loss: 0.1734 - accuracy: 0.9522\n",
      "Val Score:  [0.1734185665845871, 0.9521568417549133]\n",
      "====================================================================================\n",
      "\n",
      "\n"
     ]
    }
   ],
   "source": [
    "n_folds=3\n",
    "epochs=20\n",
    "batch_size=32\n",
    "\n",
    "#save the model history in a list after fitting so that we can plot later\n",
    "model_history = [] \n",
    "\n",
    "for i in range(n_folds):\n",
    "    print(\"Training on Fold: \",i+1)\n",
    "    t_x, val_x, t_y, val_y = train_test_split(x_train_f, y_train, test_size=0.2, \n",
    "                                               random_state = np.random.randint(1,1000, 1)[0])\n",
    "    model_history.append(fit_and_evaluate(t_x, val_x, t_y, val_y, epochs, batch_size))\n",
    "    print(\"=======\"*12, end=\"\\n\\n\\n\")"
   ]
  },
  {
   "cell_type": "code",
   "execution_count": 42,
   "metadata": {},
   "outputs": [
    {
     "data": {
      "image/png": "[encoded data removed]",
      "text/plain": [
       "<Figure size 432x288 with 1 Axes>"
      ]
     },
     "metadata": {
      "needs_background": "light"
     },
     "output_type": "display_data"
    }
   ],
   "source": [
    "plt.title('Train Accuracy vs Val Accuracy')\n",
    "plt.plot(model_history[0].history['accuracy'], label='Train Accuracy Fold 1', color='black')\n",
    "plt.plot(model_history[0].history['val_accuracy'], label='Val Accuracy Fold 1', color='black', linestyle = \"dashdot\")\n",
    "plt.plot(model_history[1].history['accuracy'], label='Train Accuracy Fold 2', color='red', )\n",
    "plt.plot(model_history[1].history['val_accuracy'], label='Val Accuracy Fold 2', color='red', linestyle = \"dashdot\")\n",
    "plt.plot(model_history[2].history['accuracy'], label='Train Accuracy Fold 3', color='green', )\n",
    "plt.plot(model_history[2].history['val_accuracy'], label='Val Accuracy Fold 3', color='green', linestyle = \"dashdot\")\n",
    "plt.legend()\n",
    "plt.show()"
   ]
  },
  {
   "cell_type": "code",
   "execution_count": 43,
   "metadata": {},
   "outputs": [],
   "source": [
    "from keras.models import load_model\n",
    "\n",
    "# checkpoint로 저장된 모델 불러오기\n",
    "model_kf = load_model('Ham_mnist_1.h5')"
   ]
  },
  {
   "cell_type": "code",
   "execution_count": 44,
   "metadata": {},
   "outputs": [
    {
     "name": "stdout",
     "output_type": "stream",
     "text": [
      "63/63 [==============================] - 4s 59ms/step - loss: 1.0349 - accuracy: 0.7475\n"
     ]
    },
    {
     "data": {
      "text/plain": [
       "[1.034930944442749, 0.7474899888038635]"
      ]
     },
     "execution_count": 44,
     "metadata": {},
     "output_type": "execute_result"
    }
   ],
   "source": [
    "model_kf.evaluate(x_test_f, y_test)"
   ]
  },
  {
   "cell_type": "code",
   "execution_count": 45,
   "metadata": {},
   "outputs": [
    {
     "data": {
      "image/png": "[encoded data removed]",
      "text/plain": [
       "<Figure size 432x288 with 2 Axes>"
      ]
     },
     "metadata": {
      "needs_background": "light"
     },
     "output_type": "display_data"
    }
   ],
   "source": [
    "Y_pred = model_kf.predict(x_val_f)\n",
    "# Convert predictions classes to one hot vectors \n",
    "Y_pred_classes = np.argmax(Y_pred,axis = 1) \n",
    "# Convert validation observations to one hot vectors\n",
    "Y_true = np.argmax(y_val, axis = 1) \n",
    "# compute the confusion matrix\n",
    "confusion_mtx = confusion_matrix(Y_true, Y_pred_classes)\n",
    "\n",
    " \n",
    "\n",
    "# plot the confusion matrix\n",
    "plot_confusion_matrix(confusion_mtx, classes = range(7)) "
   ]
  },
  {
   "cell_type": "code",
   "execution_count": 46,
   "metadata": {},
   "outputs": [
    {
     "data": {
      "text/plain": [
       "Text(0, 0.5, 'Fraction classified incorrectly')"
      ]
     },
     "execution_count": 46,
     "metadata": {},
     "output_type": "execute_result"
    },
    {
     "data": {
      "image/png": "[encoded data removed]",
      "text/plain": [
       "<Figure size 432x288 with 1 Axes>"
      ]
     },
     "metadata": {
      "needs_background": "light"
     },
     "output_type": "display_data"
    }
   ],
   "source": [
    "label_frac_error = 1 - np.diag(confusion_mtx) / np.sum(confusion_mtx, axis=1)\n",
    "plt.bar(np.arange(7),label_frac_error)\n",
    "plt.xlabel('True Label')\n",
    "plt.ylabel('Fraction classified incorrectly')"
   ]
  },
  {
   "cell_type": "code",
   "execution_count": 128,
   "metadata": {},
   "outputs": [],
   "source": [
    "melanoma_img = Image.open('HAM/Melanoma.jpg').resize((100, 75))\n",
    "nv_img1 = Image.open('HAM/nv1.jpg').resize((100, 75))\n",
    "vasc_img1 = Image.open('HAM/vasc1.jpg').resize((100, 75))\n",
    "\n",
    "x = image.img_to_array(melanoma_img)\n",
    "x=np.expand_dims(x, axis=0)/255.0\n",
    "y = image.img_to_array(nv_img1)\n",
    "y=np.expand_dims(y, axis=0)/255.0\n",
    "z = image.img_to_array(vasc_img1)\n",
    "z=np.expand_dims(z, axis=0)/255.0\n",
    "\n",
    "img3 = np.vstack([x])\n",
    "img4 = np.vstack([y])\n",
    "img5 = np.vstack([z])\n",
    "\n",
    "classes3 = model_kf.predict(img3, batch_size=10)\n",
    "classes4 = model_kf.predict(img4, batch_size=10)\n",
    "classes5 = model_kf.predict(img5, batch_size=10)"
   ]
  },
  {
   "cell_type": "code",
   "execution_count": 129,
   "metadata": {},
   "outputs": [
    {
     "name": "stdout",
     "output_type": "stream",
     "text": [
      "[0.       0.       0.000018 0.       0.       0.999982 0.      ]\n"
     ]
    }
   ],
   "source": [
    "print(classes3[0])     # incorrect"
   ]
  },
  {
   "cell_type": "code",
   "execution_count": 130,
   "metadata": {},
   "outputs": [
    {
     "name": "stdout",
     "output_type": "stream",
     "text": [
      "[0.       0.       0.000002 0.       0.       0.999998 0.      ]\n"
     ]
    }
   ],
   "source": [
    "print(classes4[0])     # correct"
   ]
  },
  {
   "cell_type": "code",
   "execution_count": 131,
   "metadata": {},
   "outputs": [
    {
     "name": "stdout",
     "output_type": "stream",
     "text": [
      "[0.000041 0.843846 0.005225 0.001264 0.000054 0.148912 0.000658]\n"
     ]
    }
   ],
   "source": [
    "print(classes5[0])     # incorrect"
   ]
  },
  {
   "cell_type": "code",
   "execution_count": 132,
   "metadata": {},
   "outputs": [
    {
     "data": {
      "image/png": "[encoded data removed]",
      "text/plain": [
       "<PIL.Image.Image image mode=RGB size=100x75 at 0x245BCF54D48>"
      ]
     },
     "execution_count": 132,
     "metadata": {},
     "output_type": "execute_result"
    }
   ],
   "source": [
    "vasc_img1"
   ]
  },
  {
   "cell_type": "markdown",
   "metadata": {},
   "source": [
    "# 결론\n",
    "\n",
    "### 모델\n",
    "- train, validation 데이터로 CNN모델을 K-fold validation을 통해 학습\n",
    "- 0.95정도의 정확도를 가진 모델을 얻었지만 test데이터로 확인한 결과 0.75정도의 정확도밖에 가지지 못한 모델임을 확인(과적합 가능성)\n",
    "- label이 imbalanced한 점이 하나의 이유일 것 같음\n",
    "\n",
    "#### Imbalanced한 이미지 처리가능한 방법\n",
    "- 다운샘플링 대신 치핑(원본이미지를 작은타일로 분할)\n",
    "- 거의 동일한 클래스 병합\n",
    "- 특정 클래스 리샘플링(소수 클래스 오버샘플링) : 오버샘플링 클래스의 과적합 초래하는 단점 존재\n",
    "- 손실함수 조정(focal loss)(파이썬에 binary, sparse존재)\n",
    "\n",
    "### 활용방안\n",
    "- 초기 피부질환 감별 및 예후 예측 가능\n",
    "- 의료뿐 아니라 코스메틱(뷰티) 분야에도 적용 가능\n",
    "\n",
    "### 아쉬운점\n",
    "- 본래 AI Hub 개방데이터인 피부질환진단 의료 이미지(피부질환, 종양등 32종류의 피부질환 및 정상피부 데이터,약 10만건)를 사용하려 했으나 심사기간 및 승인이 필요하여 사용하지 못한점\n",
    "- 위에서 언급한 것처럼 불균형한 이미지데이터를 처리해보지 못한점\n",
    "- 전이학습 적용하지 못한점\n",
    "- 따로 서비스화하지 못한점"
   ]
  },
  {
   "cell_type": "code",
   "execution_count": 152,
   "metadata": {},
   "outputs": [
    {
     "name": "stdout",
     "output_type": "stream",
     "text": [
      "Note: you may need to restart the kernel to use updated packages.\n"
     ]
    },
    {
     "name": "stderr",
     "output_type": "stream",
     "text": [
      "WARNING: Ignoring invalid distribution -atplotlib (c:\\users\\yong\\anaconda3\\lib\\site-packages)\n"
     ]
    }
   ],
   "source": [
    "pip freeze > requirements.txt"
   ]
  },
  {
   "cell_type": "code",
   "execution_count": 150,
   "metadata": {},
   "outputs": [
    {
     "data": {
      "text/html": [
       "<details>\n",
       "<summary>Click to view session information</summary>\n",
       "<pre>\n",
       "-----\n",
       "PIL                 7.0.0\n",
       "keras               2.6.0\n",
       "matplotlib          3.4.3\n",
       "numpy               1.18.1\n",
       "pandas              1.3.1\n",
       "seaborn             0.11.2\n",
       "session_info        1.0.0\n",
       "sklearn             0.24.2\n",
       "tensorflow          2.6.0\n",
       "-----\n",
       "</pre>\n",
       "<details>\n",
       "<summary>Click to view modules imported as dependencies</summary>\n",
       "<pre>\n",
       "2f7ece400a652629565c523b34ee61b04afa385c    NA\n",
       "OpenSSL                                     19.1.0\n",
       "absl                                        NA\n",
       "astunparse                                  1.6.3\n",
       "backcall                                    0.1.0\n",
       "beta_ufunc                                  NA\n",
       "binom_ufunc                                 NA\n",
       "boto3                                       1.17.23\n",
       "botocore                                    1.20.23\n",
       "bottleneck                                  1.3.2\n",
       "certifi                                     2021.05.30\n",
       "cffi                                        1.14.0\n",
       "chardet                                     3.0.4\n",
       "charset_normalizer                          2.0.4\n",
       "colorama                                    0.4.3\n",
       "cryptography                                2.8\n",
       "cycler                                      0.10.0\n",
       "cython_runtime                              NA\n",
       "dateutil                                    2.8.1\n",
       "decorator                                   4.4.1\n",
       "flatbuffers                                 2.0\n",
       "gast                                        NA\n",
       "google                                      NA\n",
       "h5py                                        2.10.0\n",
       "idna                                        3.2\n",
       "ipykernel                                   5.1.4\n",
       "ipython_genutils                            0.2.0\n",
       "ipywidgets                                  7.5.1\n",
       "jedi                                        0.14.1\n",
       "jmespath                                    0.10.0\n",
       "joblib                                      0.14.1\n",
       "keras_preprocessing                         1.1.2\n",
       "kiwisolver                                  1.1.0\n",
       "mkl                                         2.3.0\n",
       "mpl_toolkits                                NA\n",
       "nbinom_ufunc                                NA\n",
       "nt                                          NA\n",
       "ntsecuritycon                               NA\n",
       "numexpr                                     2.7.1\n",
       "opt_einsum                                  v3.3.0\n",
       "parso                                       0.5.2\n",
       "pickleshare                                 0.7.5\n",
       "pkg_resources                               NA\n",
       "prompt_toolkit                              3.0.3\n",
       "psutil                                      5.6.7\n",
       "pygments                                    2.7.1\n",
       "pyparsing                                   2.4.7\n",
       "pythoncom                                   NA\n",
       "pytz                                        2019.3\n",
       "pywintypes                                  NA\n",
       "requests                                    2.26.0\n",
       "scipy                                       1.7.0\n",
       "six                                         1.15.0\n",
       "socks                                       1.7.1\n",
       "sphinxcontrib                               NA\n",
       "statsmodels                                 0.11.0\n",
       "storemagic                                  NA\n",
       "tblib                                       1.6.0\n",
       "tensorboard                                 2.3.0\n",
       "termcolor                                   1.1.0\n",
       "tmp5xtvzsm6                                 NA\n",
       "tmpdw5iec5l                                 NA\n",
       "tmphl0gpd9e                                 NA\n",
       "tornado                                     6.1\n",
       "traitlets                                   4.3.3\n",
       "typing_extensions                           NA\n",
       "urllib3                                     1.26.3\n",
       "wcwidth                                     NA\n",
       "win32api                                    NA\n",
       "win32com                                    NA\n",
       "win32security                               NA\n",
       "wrapt                                       1.11.2\n",
       "zmq                                         18.1.1\n",
       "</pre>\n",
       "</details> <!-- seems like this ends pre, so might as well be explicit -->\n",
       "<pre>\n",
       "-----\n",
       "IPython             7.12.0\n",
       "jupyter_client      5.3.4\n",
       "jupyter_core        4.6.1\n",
       "jupyterlab          1.2.6\n",
       "notebook            6.0.3\n",
       "-----\n",
       "Python 3.7.6 (default, Jan  8 2020, 20:23:39) [MSC v.1916 64 bit (AMD64)]\n",
       "Windows-10-10.0.19041-SP0\n",
       "-----\n",
       "Session information updated at 2021-11-11 11:28\n",
       "</pre>\n",
       "</details>"
      ],
      "text/plain": [
       "<IPython.core.display.HTML object>"
      ]
     },
     "execution_count": 150,
     "metadata": {},
     "output_type": "execute_result"
    }
   ],
   "source": [
    "# requirements.txt (option)\n",
    "import session_info\n",
    "\n",
    "session_info.show()"
   ]
  },
  {
   "cell_type": "code",
   "execution_count": null,
   "metadata": {},
   "outputs": [],
   "source": []
  }
 ],
 "metadata": {
  "kernelspec": {
   "display_name": "Python 3",
   "language": "python",
   "name": "python3"
  },
  "language_info": {
   "codemirror_mode": {
    "name": "ipython",
    "version": 3
   },
   "file_extension": ".py",
   "mimetype": "text/x-python",
   "name": "python",
   "nbconvert_exporter": "python",
   "pygments_lexer": "ipython3",
   "version": "3.7.6"
  }
 },
 "nbformat": 4,
 "nbformat_minor": 4
}
